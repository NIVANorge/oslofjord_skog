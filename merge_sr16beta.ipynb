{
 "cells": [
  {
   "cell_type": "code",
   "execution_count": 1,
   "id": "1113a9cd-eb12-4b19-b539-ac4d89ee8322",
   "metadata": {
    "tags": []
   },
   "outputs": [],
   "source": [
    "import glob\n",
    "import os\n",
    "import geopandas as gpd\n",
    "import pandas as pd\n",
    "import rasterio\n",
    "import requests\n",
    "import rioxarray as rio\n",
    "from rasterio.enums import Resampling\n",
    "from rasterio.features import shapes\n",
    "from rasterio.merge import merge"
   ]
  },
  {
   "cell_type": "markdown",
   "id": "0ade3538-67f5-4e6f-aadf-6bd03fa69a34",
   "metadata": {},
   "source": [
    "# Get harvested areas from SR16beta"
   ]
  },
  {
   "cell_type": "code",
   "execution_count": 2,
   "id": "f6e6af0a-7af3-4b4e-887e-87b8ae45ee59",
   "metadata": {
    "tags": []
   },
   "outputs": [],
   "source": [
    "# Folder to save raw raster tiles\n",
    "raw_path = r\"/home/jovyan/shared/common/oslofjord_modelling/nibio_skog/data/sr16beta/raw\"\n",
    "\n",
    "# Merged tiff to create\n",
    "tif_path = r\"/home/jovyan/shared/common/oslofjord_modelling/nibio_skog/data/sr16beta/sr16beta_hogst_aar.tif\"\n",
    "\n",
    "# Vector data to create\n",
    "vec_path = r\"/home/jovyan/shared/common/oslofjord_modelling/nibio_skog/data/sr16beta/sr16beta.gpkg\"\n",
    "layer = \"hogst_aar\""
   ]
  },
  {
   "cell_type": "markdown",
   "id": "ac4436ab-2985-4dc0-bd8b-7cab3db2506d",
   "metadata": {},
   "source": [
    "## 1. Download data"
   ]
  },
  {
   "cell_type": "code",
   "execution_count": null,
   "id": "524a3bdb-3063-4304-a8d5-64c61ff3fd44",
   "metadata": {},
   "outputs": [],
   "source": [
    "# List of fylke numbers. From here:\n",
    "# https://kart8.nibio.no/nedlasting/dashboard\n",
    "areas = [42, 34, 15, 18, 3, 11, 54, 50, 38, 46, 30]\n",
    "for area in areas:\n",
    "    download_url = f\"https://kart8.nibio.no/uttak_Download/sr16beta/{area:02d}_25832_SR16BETA-v21022023_RASTER.zip\"\n",
    "    response = requests.get(download_url, stream=True)\n",
    "    \n",
    "    if response.status_code != 200:\n",
    "        raise Exception(\n",
    "            f\"Failed to download data for area {area}. Status code: {response.status_code}\"\n",
    "        )\n",
    "\n",
    "    # If the download was successful, save the data to a local file\n",
    "    zip_path = os.path.join(raw_path, f\"{area}_25832_SR16BETA-v21022023_RASTER.zip\")\n",
    "    with open(zip_path, \"wb\") as f:\n",
    "        for chunk in response.iter_content(chunk_size=8192):\n",
    "            f.write(chunk)"
   ]
  },
  {
   "cell_type": "markdown",
   "id": "1f8ec75f-5d8f-4f25-838c-1b0dd268de7f",
   "metadata": {},
   "source": [
    "Finally, open a terminal in `raw_path` and run `unzip \"./*.zip\"` to unzip all the downloaded archives.\n",
    "\n",
    "## 2. Merge"
   ]
  },
  {
   "cell_type": "code",
   "execution_count": 3,
   "id": "031b786a-7409-49c2-89a8-8d8904c4593a",
   "metadata": {
    "tags": []
   },
   "outputs": [
    {
     "name": "stderr",
     "output_type": "stream",
     "text": [
      "/tmp/ipykernel_1601/1351007077.py:14: RuntimeWarning: invalid value encountered in cast\n",
      "  mosaic = mosaic.astype(\"int16\")\n"
     ]
    }
   ],
   "source": [
    "# Read separate tiles\n",
    "search_path = os.path.join(raw_path, \"sr16_*_SRRHOGSTAARbeta.tif\")\n",
    "flist = glob.glob(search_path)\n",
    "src_files_to_mosaic = []\n",
    "for fp in flist:\n",
    "    src = rasterio.open(fp)\n",
    "    src_files_to_mosaic.append(src)\n",
    "\n",
    "mosaic, out_trans = merge(src_files_to_mosaic)\n",
    "\n",
    "# Close files\n",
    "for src in src_files_to_mosaic:\n",
    "    src.close()\n",
    "\n",
    "# Convert data type to int16\n",
    "mosaic = mosaic.astype(\"int16\")\n",
    "\n",
    "# Keep only values after 2000\n",
    "nodata_value = -9999\n",
    "mosaic[~(mosaic > 2000)] = nodata_value\n",
    "\n",
    "# Update metadata\n",
    "out_meta = src.meta.copy()\n",
    "out_meta.update(\n",
    "    {\n",
    "        \"driver\": \"GTiff\",\n",
    "        \"height\": mosaic.shape[1],\n",
    "        \"width\": mosaic.shape[2],\n",
    "        \"transform\": out_trans,\n",
    "        \"compress\": \"lzw\",\n",
    "        \"BIGTIFF\": \"YES\",\n",
    "        \"dtype\": \"int16\",\n",
    "        \"nodata\": nodata_value,\n",
    "    }\n",
    ")\n",
    "\n",
    "# Write the mosaic raster to disk\n",
    "with rasterio.open(tif_path, \"w\", **out_meta) as dest:\n",
    "    dest.write(mosaic)"
   ]
  },
  {
   "cell_type": "markdown",
   "id": "2b9019ff-1a59-4af9-8230-27ab4c3a9992",
   "metadata": {},
   "source": [
    "## 3. Convert to vector"
   ]
  },
  {
   "cell_type": "code",
   "execution_count": 4,
   "id": "5e775bc6-0b79-4d1c-935a-51777b35fde0",
   "metadata": {
    "tags": []
   },
   "outputs": [
    {
     "data": {
      "text/html": [
       "<div>\n",
       "<style scoped>\n",
       "    .dataframe tbody tr th:only-of-type {\n",
       "        vertical-align: middle;\n",
       "    }\n",
       "\n",
       "    .dataframe tbody tr th {\n",
       "        vertical-align: top;\n",
       "    }\n",
       "\n",
       "    .dataframe thead th {\n",
       "        text-align: right;\n",
       "    }\n",
       "</style>\n",
       "<table border=\"1\" class=\"dataframe\">\n",
       "  <thead>\n",
       "    <tr style=\"text-align: right;\">\n",
       "      <th></th>\n",
       "      <th>geometry</th>\n",
       "      <th>year</th>\n",
       "    </tr>\n",
       "  </thead>\n",
       "  <tbody>\n",
       "    <tr>\n",
       "      <th>0</th>\n",
       "      <td>POLYGON ((1190416.000 7967072.000, 1190432.000...</td>\n",
       "      <td>2018</td>\n",
       "    </tr>\n",
       "    <tr>\n",
       "      <th>1</th>\n",
       "      <td>POLYGON ((1190224.000 7966832.000, 1190224.000...</td>\n",
       "      <td>2018</td>\n",
       "    </tr>\n",
       "    <tr>\n",
       "      <th>2</th>\n",
       "      <td>POLYGON ((1190240.000 7954528.000, 1190240.000...</td>\n",
       "      <td>2018</td>\n",
       "    </tr>\n",
       "    <tr>\n",
       "      <th>3</th>\n",
       "      <td>POLYGON ((1257680.000 7953760.000, 1257680.000...</td>\n",
       "      <td>2021</td>\n",
       "    </tr>\n",
       "    <tr>\n",
       "      <th>4</th>\n",
       "      <td>POLYGON ((1257696.000 7953744.000, 1257696.000...</td>\n",
       "      <td>2021</td>\n",
       "    </tr>\n",
       "    <tr>\n",
       "      <th>...</th>\n",
       "      <td>...</td>\n",
       "      <td>...</td>\n",
       "    </tr>\n",
       "    <tr>\n",
       "      <th>423669</th>\n",
       "      <td>POLYGON ((412528.000 6427888.000, 412528.000 6...</td>\n",
       "      <td>2020</td>\n",
       "    </tr>\n",
       "    <tr>\n",
       "      <th>423670</th>\n",
       "      <td>POLYGON ((412512.000 6427856.000, 412512.000 6...</td>\n",
       "      <td>2020</td>\n",
       "    </tr>\n",
       "    <tr>\n",
       "      <th>423671</th>\n",
       "      <td>POLYGON ((412016.000 6427840.000, 412016.000 6...</td>\n",
       "      <td>2021</td>\n",
       "    </tr>\n",
       "    <tr>\n",
       "      <th>423672</th>\n",
       "      <td>POLYGON ((412448.000 6427776.000, 412480.000 6...</td>\n",
       "      <td>2018</td>\n",
       "    </tr>\n",
       "    <tr>\n",
       "      <th>423673</th>\n",
       "      <td>POLYGON ((412512.000 6427728.000, 412512.000 6...</td>\n",
       "      <td>2018</td>\n",
       "    </tr>\n",
       "  </tbody>\n",
       "</table>\n",
       "<p>377290 rows × 2 columns</p>\n",
       "</div>"
      ],
      "text/plain": [
       "                                                 geometry  year\n",
       "0       POLYGON ((1190416.000 7967072.000, 1190432.000...  2018\n",
       "1       POLYGON ((1190224.000 7966832.000, 1190224.000...  2018\n",
       "2       POLYGON ((1190240.000 7954528.000, 1190240.000...  2018\n",
       "3       POLYGON ((1257680.000 7953760.000, 1257680.000...  2021\n",
       "4       POLYGON ((1257696.000 7953744.000, 1257696.000...  2021\n",
       "...                                                   ...   ...\n",
       "423669  POLYGON ((412528.000 6427888.000, 412528.000 6...  2020\n",
       "423670  POLYGON ((412512.000 6427856.000, 412512.000 6...  2020\n",
       "423671  POLYGON ((412016.000 6427840.000, 412016.000 6...  2021\n",
       "423672  POLYGON ((412448.000 6427776.000, 412480.000 6...  2018\n",
       "423673  POLYGON ((412512.000 6427728.000, 412512.000 6...  2018\n",
       "\n",
       "[377290 rows x 2 columns]"
      ]
     },
     "execution_count": 4,
     "metadata": {},
     "output_type": "execute_result"
    }
   ],
   "source": [
    "# Convert to vector\n",
    "with rasterio.open(tif_path) as src:\n",
    "    # Read mosaic\n",
    "    crs = src.crs\n",
    "    image = src.read(1)\n",
    "    \n",
    "    # Create shapes (polygons) from the raster\n",
    "    results = (\n",
    "        {\"properties\": {\"year\": int(v)}, \"geometry\": s}\n",
    "        for s, v in shapes(image, transform=src.transform)\n",
    "    )\n",
    "\n",
    "# Convert the shapes to a GeoDataFrame\n",
    "gdf = gpd.GeoDataFrame.from_features(list(results), crs=crs)\n",
    "gdf = gdf.query(\"year > 0\")\n",
    "gdf"
   ]
  },
  {
   "cell_type": "code",
   "execution_count": 5,
   "id": "20ebf6ed-6880-42c1-b309-1667114c5051",
   "metadata": {},
   "outputs": [],
   "source": [
    "# Save\n",
    "gdf.to_file(vec_path, layer=layer, driver=\"GPKG\")"
   ]
  },
  {
   "cell_type": "code",
   "execution_count": 6,
   "id": "dd140017-3370-4ac3-bd4e-09b3285ec163",
   "metadata": {
    "tags": []
   },
   "outputs": [],
   "source": [
    "# # Save\n",
    "# gdf.to_file(\n",
    "#     r\"/home/jovyan/shared/common/oslofjord_modelling/nibio_skog/data/sr16beta/hogst_aar.shp\"\n",
    "# )"
   ]
  }
 ],
 "metadata": {
  "kernelspec": {
   "display_name": "Python 3 (ipykernel)",
   "language": "python",
   "name": "python3"
  },
  "language_info": {
   "codemirror_mode": {
    "name": "ipython",
    "version": 3
   },
   "file_extension": ".py",
   "mimetype": "text/x-python",
   "name": "python",
   "nbconvert_exporter": "python",
   "pygments_lexer": "ipython3",
   "version": "3.11.6"
  }
 },
 "nbformat": 4,
 "nbformat_minor": 5
}
