{
 "cells": [
  {
   "cell_type": "code",
   "execution_count": 1,
   "id": "16c60df7-ca27-4497-84a2-f125d1a883aa",
   "metadata": {},
   "outputs": [],
   "source": [
    "# # Run this and then restart the kernel at the start of each session to install\n",
    "# # 'teotil3' in development mode\n",
    "# !pip install -e /home/jovyan/projects/teotil3/"
   ]
  },
  {
   "cell_type": "code",
   "execution_count": 2,
   "id": "e18d6c02-3bb5-4916-814d-712d2ae91bc6",
   "metadata": {},
   "outputs": [],
   "source": [
    "import os\n",
    "\n",
    "import geopandas as gpd\n",
    "import matplotlib.pyplot as plt\n",
    "import nivapy3 as nivapy\n",
    "import numpy as np\n",
    "import pandas as pd\n",
    "import rasterio\n",
    "import teotil3 as teo\n",
    "from rasterio.features import geometry_mask\n",
    "from rasterio.mask import mask\n",
    "\n",
    "plt.style.use(\"ggplot\")"
   ]
  },
  {
   "cell_type": "code",
   "execution_count": 3,
   "id": "0e4470fc-59c1-4874-ba98-eb8b11ccdcf3",
   "metadata": {},
   "outputs": [
    {
     "name": "stdout",
     "output_type": "stream",
     "text": [
      "Connection successful.\n"
     ]
    }
   ],
   "source": [
    "eng = nivapy.da.connect_postgis()"
   ]
  },
  {
   "cell_type": "markdown",
   "id": "61df08d7-b6e9-4e6a-8622-56adf6155862",
   "metadata": {},
   "source": [
    "# Estimate harvested area by region using SR16beta\n",
    "\n",
    "## 1. By Fylke"
   ]
  },
  {
   "cell_type": "code",
   "execution_count": 4,
   "id": "732c64e0-a731-4197-99a7-538dc82495d0",
   "metadata": {},
   "outputs": [
    {
     "data": {
      "text/html": [
       "<div>\n",
       "<style scoped>\n",
       "    .dataframe tbody tr th:only-of-type {\n",
       "        vertical-align: middle;\n",
       "    }\n",
       "\n",
       "    .dataframe tbody tr th {\n",
       "        vertical-align: top;\n",
       "    }\n",
       "\n",
       "    .dataframe thead th {\n",
       "        text-align: right;\n",
       "    }\n",
       "</style>\n",
       "<table border=\"1\" class=\"dataframe\">\n",
       "  <thead>\n",
       "    <tr style=\"text-align: right;\">\n",
       "      <th></th>\n",
       "      <th>fylke</th>\n",
       "      <th>year</th>\n",
       "      <th>harvest_area_km2</th>\n",
       "    </tr>\n",
       "  </thead>\n",
       "  <tbody>\n",
       "    <tr>\n",
       "      <th>0</th>\n",
       "      <td>42</td>\n",
       "      <td>2011</td>\n",
       "      <td>0.580608</td>\n",
       "    </tr>\n",
       "    <tr>\n",
       "      <th>1</th>\n",
       "      <td>42</td>\n",
       "      <td>2012</td>\n",
       "      <td>1.388288</td>\n",
       "    </tr>\n",
       "    <tr>\n",
       "      <th>2</th>\n",
       "      <td>42</td>\n",
       "      <td>2013</td>\n",
       "      <td>2.507008</td>\n",
       "    </tr>\n",
       "    <tr>\n",
       "      <th>3</th>\n",
       "      <td>42</td>\n",
       "      <td>2014</td>\n",
       "      <td>1.137920</td>\n",
       "    </tr>\n",
       "    <tr>\n",
       "      <th>4</th>\n",
       "      <td>42</td>\n",
       "      <td>2015</td>\n",
       "      <td>2.984704</td>\n",
       "    </tr>\n",
       "  </tbody>\n",
       "</table>\n",
       "</div>"
      ],
      "text/plain": [
       "   fylke  year  harvest_area_km2\n",
       "0     42  2011          0.580608\n",
       "1     42  2012          1.388288\n",
       "2     42  2013          2.507008\n",
       "3     42  2014          1.137920\n",
       "4     42  2015          2.984704"
      ]
     },
     "execution_count": 4,
     "metadata": {},
     "output_type": "execute_result"
    }
   ],
   "source": [
    "# Raw data is already chunked by fylke\n",
    "raw_path = (\n",
    "    r\"/home/jovyan/shared/common/oslofjord_modelling/nibio_skog/data/sr16beta/raw\"\n",
    ")\n",
    "fylkes = [42, 34, 15, 18, 3, 11, 54, 50, 38, 46, 30]\n",
    "data_dict = {\n",
    "    \"fylke\": [],\n",
    "    \"year\": [],\n",
    "    \"harvest_area_km2\": [],\n",
    "}\n",
    "for fylke in fylkes:\n",
    "    tif_path = os.path.join(raw_path, f\"sr16_{fylke}_SRRHOGSTAARbeta.tif\")\n",
    "    with rasterio.open(tif_path) as src:\n",
    "        data = src.read(1)\n",
    "\n",
    "    # Get unique years with data\n",
    "    years = [int(val) for val in np.unique(data) if (val > 0) and ~np.isnan(val)]\n",
    "    for year in years:\n",
    "        area = np.count_nonzero(data == year) * 16 * 16 / 1e6\n",
    "        data_dict[\"fylke\"].append(fylke)\n",
    "        data_dict[\"year\"].append(year)\n",
    "        data_dict[\"harvest_area_km2\"].append(area)\n",
    "\n",
    "df = pd.DataFrame(data_dict)\n",
    "df[\"harvest_area_km2\"] = df[\"harvest_area_km2\"].astype(float)\n",
    "df.dropna(subset=\"harvest_area_km2\", inplace=True)\n",
    "\n",
    "df.head()"
   ]
  },
  {
   "cell_type": "code",
   "execution_count": 5,
   "id": "d465e20e-1fa6-47f3-b39b-2b3f6a9cc6b1",
   "metadata": {},
   "outputs": [
    {
     "data": {
      "image/png": "[encoded data removed]",
      "text/plain": [
       "<Figure size 640x480 with 1 Axes>"
      ]
     },
     "metadata": {},
     "output_type": "display_data"
    }
   ],
   "source": [
    "df[\"Fylke\"] = df[\"fylke\"].map(\n",
    "    {\n",
    "        3: \"Oslo og Viken\",\n",
    "        30: \"Oslo og Viken\",\n",
    "        34: \"Innlandet\",\n",
    "        38: \"Vestfold og Telemark\",\n",
    "    }\n",
    ")\n",
    "df2 = (\n",
    "    df.dropna(subset=\"Fylke\")\n",
    "    .groupby([\"Fylke\", \"year\"])\n",
    "    .sum(numeric_only=True)\n",
    "    .reset_index()\n",
    ")\n",
    "df_pivot = df2.pivot(index=\"year\", columns=\"Fylke\", values=\"harvest_area_km2\")\n",
    "df_pivot.plot(kind=\"bar\", stacked=True)\n",
    "plt.xlabel(\"\")\n",
    "plt.ylabel(\"Hogstareal ($km^2$)\")\n",
    "plt.savefig(r\"./images/harvest_area_by_fylke.png\", dpi=200, bbox_inches=\"tight\")"
   ]
  },
  {
   "cell_type": "markdown",
   "id": "ba437581-bfa1-4c2e-947c-622845a63c28",
   "metadata": {},
   "source": [
    "## 2. For Oslofjord"
   ]
  },
  {
   "cell_type": "code",
   "execution_count": 6,
   "id": "990c341a-c60a-4071-acac-1c448bf04db0",
   "metadata": {},
   "outputs": [],
   "source": [
    "gdf = teo.io.get_regine_geodataframe(eng, 2021).to_crs(\"epsg:25832\")\n",
    "cols = [\"regine\", \"geometry\"]\n",
    "gdf = gdf[cols]\n",
    "\n",
    "vass_min, vass_max = 1, 14\n",
    "vass_list = [f\"{vass:03d}\" for vass in range(vass_min, vass_max + 1)]\n",
    "gdf[\"vassom\"] = gdf[\"regine\"].str.split(\".\", n=1, expand=True)[0]\n",
    "gdf = gdf.query(\"vassom in @vass_list\")\n",
    "\n",
    "gdf[\"dissolve\"] = 1\n",
    "gdf = gdf.dissolve(by=\"dissolve\").reset_index()\n",
    "del gdf[\"vassom\"], gdf[\"dissolve\"]"
   ]
  },
  {
   "cell_type": "code",
   "execution_count": 7,
   "id": "ca267283-53bd-49cf-acb8-3fcd1fc46e04",
   "metadata": {},
   "outputs": [
    {
     "data": {
      "text/plain": [
       "<Axes: >"
      ]
     },
     "execution_count": 7,
     "metadata": {},
     "output_type": "execute_result"
    },
    {
     "data": {
      "image/png": "[encoded data removed]",
      "text/plain": [
       "<Figure size 640x480 with 1 Axes>"
      ]
     },
     "metadata": {},
     "output_type": "display_data"
    }
   ],
   "source": [
    "gdf.plot()"
   ]
  },
  {
   "cell_type": "code",
   "execution_count": 8,
   "id": "1f70fe1c-1fe3-4df9-8b96-a47bc03ee1c6",
   "metadata": {},
   "outputs": [
    {
     "data": {
      "text/html": [
       "<div>\n",
       "<style scoped>\n",
       "    .dataframe tbody tr th:only-of-type {\n",
       "        vertical-align: middle;\n",
       "    }\n",
       "\n",
       "    .dataframe tbody tr th {\n",
       "        vertical-align: top;\n",
       "    }\n",
       "\n",
       "    .dataframe thead th {\n",
       "        text-align: right;\n",
       "    }\n",
       "</style>\n",
       "<table border=\"1\" class=\"dataframe\">\n",
       "  <thead>\n",
       "    <tr style=\"text-align: right;\">\n",
       "      <th></th>\n",
       "      <th>year</th>\n",
       "      <th>area_km2</th>\n",
       "    </tr>\n",
       "  </thead>\n",
       "  <tbody>\n",
       "    <tr>\n",
       "      <th>0</th>\n",
       "      <td>2011</td>\n",
       "      <td>0.051712</td>\n",
       "    </tr>\n",
       "    <tr>\n",
       "      <th>1</th>\n",
       "      <td>2012</td>\n",
       "      <td>1.661184</td>\n",
       "    </tr>\n",
       "    <tr>\n",
       "      <th>2</th>\n",
       "      <td>2013</td>\n",
       "      <td>5.756160</td>\n",
       "    </tr>\n",
       "    <tr>\n",
       "      <th>3</th>\n",
       "      <td>2014</td>\n",
       "      <td>17.928704</td>\n",
       "    </tr>\n",
       "    <tr>\n",
       "      <th>4</th>\n",
       "      <td>2015</td>\n",
       "      <td>22.026496</td>\n",
       "    </tr>\n",
       "    <tr>\n",
       "      <th>5</th>\n",
       "      <td>2016</td>\n",
       "      <td>81.577472</td>\n",
       "    </tr>\n",
       "    <tr>\n",
       "      <th>6</th>\n",
       "      <td>2017</td>\n",
       "      <td>198.321408</td>\n",
       "    </tr>\n",
       "    <tr>\n",
       "      <th>7</th>\n",
       "      <td>2018</td>\n",
       "      <td>255.458816</td>\n",
       "    </tr>\n",
       "    <tr>\n",
       "      <th>8</th>\n",
       "      <td>2019</td>\n",
       "      <td>307.906304</td>\n",
       "    </tr>\n",
       "    <tr>\n",
       "      <th>9</th>\n",
       "      <td>2020</td>\n",
       "      <td>346.868480</td>\n",
       "    </tr>\n",
       "    <tr>\n",
       "      <th>10</th>\n",
       "      <td>2021</td>\n",
       "      <td>315.462400</td>\n",
       "    </tr>\n",
       "  </tbody>\n",
       "</table>\n",
       "</div>"
      ],
      "text/plain": [
       "    year    area_km2\n",
       "0   2011    0.051712\n",
       "1   2012    1.661184\n",
       "2   2013    5.756160\n",
       "3   2014   17.928704\n",
       "4   2015   22.026496\n",
       "5   2016   81.577472\n",
       "6   2017  198.321408\n",
       "7   2018  255.458816\n",
       "8   2019  307.906304\n",
       "9   2020  346.868480\n",
       "10  2021  315.462400"
      ]
     },
     "execution_count": 8,
     "metadata": {},
     "output_type": "execute_result"
    }
   ],
   "source": [
    "tif_path = r\"/home/jovyan/shared/common/oslofjord_modelling/nibio_skog/data/sr16beta/sr16beta_hogst_aar.tif\"\n",
    "\n",
    "# Load your GeoTIFF\n",
    "with rasterio.open(tif_path) as src:\n",
    "    gdf = gdf.to_crs(src.crs)\n",
    "\n",
    "    # Get a masl for all cells within the poly, so we can check total area is roughly correct\n",
    "    val_mask = geometry_mask(\n",
    "        gdf.geometry, transform=src.transform, out_shape=src.shape, invert=True\n",
    "    )\n",
    "\n",
    "    # Mask the raster with the polygon\n",
    "    out_image, out_transform = mask(src, gdf.geometry, crop=True)\n",
    "\n",
    "# Flatten the array and remove masked (invalid) values\n",
    "flattened = out_image.flatten()\n",
    "valid_pixels = flattened[flattened != src.nodata]\n",
    "\n",
    "# Count unique values\n",
    "unique, counts = np.unique(valid_pixels, return_counts=True)\n",
    "area = counts * 16 * 16 / 1e6\n",
    "\n",
    "df = pd.DataFrame({\"year\": unique, \"area_km2\": area})\n",
    "df"
   ]
  },
  {
   "cell_type": "code",
   "execution_count": 9,
   "id": "377d8ffe-c885-4084-ad34-2ecb2f62832c",
   "metadata": {},
   "outputs": [
    {
     "data": {
      "text/plain": [
       "0    67855.990494\n",
       "dtype: float64"
      ]
     },
     "execution_count": 9,
     "metadata": {},
     "output_type": "execute_result"
    }
   ],
   "source": [
    "gdf.to_crs({\"proj\": \"cea\"}).geometry.area / 1e6"
   ]
  },
  {
   "cell_type": "code",
   "execution_count": 10,
   "id": "fb5a9bc0-c822-47c0-9ec6-c7cd8e6d889c",
   "metadata": {},
   "outputs": [
    {
     "data": {
      "text/plain": [
       "67816.089856"
      ]
     },
     "execution_count": 10,
     "metadata": {},
     "output_type": "execute_result"
    }
   ],
   "source": [
    "val_mask.sum() * 16 * 16 / 1e6"
   ]
  },
  {
   "cell_type": "code",
   "execution_count": 11,
   "id": "688dddc4-f10f-47d1-8e6b-818a8904025b",
   "metadata": {},
   "outputs": [
    {
     "data": {
      "image/png": "[encoded data removed]",
      "text/plain": [
       "<Figure size 640x480 with 1 Axes>"
      ]
     },
     "metadata": {},
     "output_type": "display_data"
    }
   ],
   "source": [
    "df.set_index('year').plot.bar(legend=False)\n",
    "plt.xlabel('')\n",
    "plt.ylabel(\"Hogstareal ($km^2$)\")\n",
    "plt.savefig(r\"./images/harvest_area_oslofjord.png\", dpi=200, bbox_inches=\"tight\")"
   ]
  }
 ],
 "metadata": {
  "kernelspec": {
   "display_name": "Python 3 (ipykernel)",
   "language": "python",
   "name": "python3"
  },
  "language_info": {
   "codemirror_mode": {
    "name": "ipython",
    "version": 3
   },
   "file_extension": ".py",
   "mimetype": "text/x-python",
   "name": "python",
   "nbconvert_exporter": "python",
   "pygments_lexer": "ipython3",
   "version": "3.11.6"
  }
 },
 "nbformat": 4,
 "nbformat_minor": 5
}
